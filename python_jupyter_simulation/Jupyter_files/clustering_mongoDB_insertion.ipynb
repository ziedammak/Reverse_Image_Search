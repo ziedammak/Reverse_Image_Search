{
 "cells": [
  {
   "cell_type": "code",
   "execution_count": 1,
   "metadata": {},
   "outputs": [],
   "source": [
    "import numpy as np\n",
    "from pymongo import MongoClient\n",
    "from matplotlib import style\n",
    "import pandas as pd "
   ]
  },
  {
   "cell_type": "code",
   "execution_count": 2,
   "metadata": {},
   "outputs": [],
   "source": [
    "#calcul de distance selon la formule du ehd \n",
    "def calculatedistance(pic1,pic2):\n",
    "       result=float(0)\n",
    "       if len(pic1)==2 :\n",
    "        result=abs(float(pic1[0])-float(pic2[0]))+abs(float(pic1[1])-float(pic2[1]))\n",
    "       else:\n",
    "       \n",
    "        for i in range(1,151):\n",
    "         if i < 81  : \n",
    "           result+=abs(float(pic1[i])-float(pic2[i]))\n",
    "         elif i > 85:\n",
    "           result+=abs(float(pic1[i])-float(pic2[i]))           \n",
    "         else :\n",
    "           result+=5*abs(float(pic1[i])-float(pic2[i]))\n",
    " \n",
    "       return result\n",
    "    "
   ]
  },
  {
   "cell_type": "code",
   "execution_count": 4,
   "metadata": {},
   "outputs": [],
   "source": [
    "#Algorithme kmeans modifié\n",
    "class K_Means:\n",
    "\tdef __init__(self, k =3, tolerance = 0.0001, max_iterations = 500):\n",
    "\t\tself.k = k\n",
    "\t\tself.tolerance = tolerance\n",
    "\t\tself.max_iterations = max_iterations\n",
    "\n",
    "\tdef fit(self, data):\n",
    "\n",
    "\t\tself.centroids = {}\n",
    "\n",
    "\t\t#initialisation des centroïdes , les k éléments dans le dataset vont être les centroïdes initiaux \n",
    "\t\tfor i in range(self.k):\n",
    "\t\t\tself.centroids[i] = data[i]\n",
    "            \n",
    "\n",
    "\t\t#Début des itérations\n",
    "\t\tfor i in range(self.max_iterations):\n",
    "\t\t\tself.classes = {}\n",
    "\t\t\tfor i in range(self.k):\n",
    "\t\t\t\tself.classes[i] = []\n",
    "\t\t\t#trouver la distance entre le point et le cluster; choisir le centroïde le plus proche\n",
    "\t\t\t\n",
    "\t\t\tfor features in data:\n",
    "\t\t\t\tdistances = [calculatedistance(features , self.centroids[centroid]) for centroid in self.centroids]\n",
    "\t\t\t\tclassification = distances.index(min(distances))\n",
    "\t\t\t\tself.classes[classification].append(features)\n",
    "\t\t\t                                \t\t\t\t      \n",
    "\t\t\tprevious = dict(self.centroids)         \n",
    "\t\t\t#faire la moyenne des points de chaque cluster pour recalculer les centroïdes\n",
    "\t\t\tfor classification in self.classes:\n",
    "\t\t\t\tself.centroids[classification] = np.average(self.classes[classification], axis = 0)\n",
    "\n",
    "\t\t\tisOptimal = True\n",
    "\n",
    "\t\t\tfor centroid in self.centroids:\n",
    "\n",
    "\t\t\t\toriginal_centroid = previous[centroid]\n",
    "\t\t\t\tcurr = self.centroids[centroid]\n",
    "\t\t\t\tif np.sum((curr[1:] - original_centroid[1:])/original_centroid[1:] * 100.0) > self.tolerance:\n",
    "\t\t\t\t\tisOptimal = False\n",
    "\t\t\t#sortir de la boucle principale si les résultats sont optimaux, c'est à dire les centroïdes ne changent pas beaucoup leurs positions (plus que notre tolérance)\n",
    "\t\t\tif isOptimal:\n",
    "\t\t\t\tbreak\n",
    "\t#fonction qui attribue à chaque point entré le nombre relatif à son appartenance à la liste des clusters\t\t\n",
    "\tdef pred(self, data):\n",
    "\t\tdistances = [calculatedistance(data , self.centroids[centroid]) for centroid in self.centroids]\n",
    "\t\tclassification = distances.index(min(distances))\n",
    "\t\treturn classification"
   ]
  },
  {
   "cell_type": "code",
   "execution_count": null,
   "metadata": {},
   "outputs": [],
   "source": [
    "\tarray_edge=np.loadtxt('C:/Users/ziedd/Desktop/Dammak_Zied/teb/cbir/eh_descriptors/'+'eh1.txt')\n",
    "\tdf = pd.DataFrame(array_edge)\n",
    "\tdf.index = [np.arange(len(df.index)), df.index]\n",
    "\tX = df.values #returns a numpy array\n",
    "\tV = list(range(0,10000))\n",
    "\t#Ajout de colonne d'indexation pour conserver l'ordre des images lors des manipulations suivantes\n",
    "\tX=np.column_stack((V,X))\n",
    "\t#20 clusters\n",
    "\tK=20\n",
    "\tkm = K_Means(K)\n",
    "\tkm.fit(X)"
   ]
  },
  {
   "cell_type": "code",
   "execution_count": 15,
   "metadata": {},
   "outputs": [],
   "source": [
    "\t#Connexion à la base de donnée mongoDB\n",
    "\tclient=MongoClient('mongodb://localhost:27017/reverse_search')\n",
    "\tdb=client.reverse_search\n",
    "\t#Collection destinée au stockage des différents centroides des classes\n",
    "\tcollection1=db.collection_centroid\n",
    "\t#Collection destinée au stockage des lignes d'indexation des images\n",
    "\tcollection2=db.collection_edge"
   ]
  },
  {
   "cell_type": "code",
   "execution_count": null,
   "metadata": {},
   "outputs": [],
   "source": [
    "\t#Parcours des différentes classes et insertion de leurs centroides dans la collection1 : collection_centroid\n",
    "\tfor i in range(0,K):\n",
    "\t\tline_DB1={\"cluster\":i,\"edge_value\":','.join(str(e) for e in km.centroids[i][1:])}\n",
    "\t\tcollection1.insert_one(line_DB1)"
   ]
  },
  {
   "cell_type": "code",
   "execution_count": 17,
   "metadata": {},
   "outputs": [],
   "source": [
    "\t#Parcours des différentes classes \n",
    "\tfor classification in km.classes:\n",
    "\t\tcluster=classification\t\t\n",
    "\t#Parcours et insertion des différentes lignes relatives à chaque classe dans la collection2 : collection_edge\n",
    "\t\tfor features in km.classes[classification]:\n",
    "\t\t\t#features[0] est relatif à la numérotation de chaque image et le reste [1:] est relatif aux coefficients du edge histogram de chaque image \n",
    "\t\t\tline_DB2={\"index\":int(features[0]),\"edge_value\":','.join(str(e) for e in features[1:]),\"cluster\":cluster}\n",
    "\t\t\tcollection2.insert_one(line_DB2)"
   ]
  }
 ],
 "metadata": {
  "kernelspec": {
   "display_name": "Python 3",
   "language": "python",
   "name": "python3"
  },
  "language_info": {
   "codemirror_mode": {
    "name": "ipython",
    "version": 3
   },
   "file_extension": ".py",
   "mimetype": "text/x-python",
   "name": "python",
   "nbconvert_exporter": "python",
   "pygments_lexer": "ipython3",
   "version": "3.6.5"
  }
 },
 "nbformat": 4,
 "nbformat_minor": 2
}
